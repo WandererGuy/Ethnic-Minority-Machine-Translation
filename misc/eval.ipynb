{
 "cells": [
  {
   "cell_type": "markdown",
   "metadata": {},
   "source": [
    "# 6. Đánh giá bản dịch"
   ]
  },
  {
   "cell_type": "markdown",
   "metadata": {},
   "source": [
    "## Đối với bản dịch sử dụng mã hóa BPE\n",
    "Do bản dịch sau khi được dịch, nó vẫn là những mảnh rời rạc do mã hóa BPE nên không thể hiểu với người và so sánh với bản dịch tham chiếu tới. Do đó, chúng ta phải loại bỏ chúng và đưa về bản dịch theo như thực tế\n",
    "\n",
    "Chúng ta có thể sử dụng lệnh !sed của linux. Lệnh sed là lệnh hiệu quả tích hợp sẵn trên linux để xử lý luồng kí tự"
   ]
  },
  {
   "cell_type": "code",
   "execution_count": null,
   "metadata": {
    "vscode": {
     "languageId": "plaintext"
    }
   },
   "outputs": [],
   "source": [
    "!sed 's/\\_/ /g' -i  data/pred_bpe.txt "
   ]
  },
  {
   "cell_type": "code",
   "execution_count": null,
   "metadata": {
    "vscode": {
     "languageId": "plaintext"
    }
   },
   "outputs": [],
   "source": [
    "!sed \"s/@@ //g\" -i data/pred_bpe.txt"
   ]
  },
  {
   "cell_type": "code",
   "execution_count": null,
   "metadata": {
    "vscode": {
     "languageId": "plaintext"
    }
   },
   "outputs": [],
   "source": [
    "!perl OpenNMT-py/tools/multi-bleu-detok.perl ./data/tgt-test.txt < ./data/pred_bpe.txt"
   ]
  },
  {
   "cell_type": "markdown",
   "metadata": {},
   "source": [
    "## Đối với bản dịch không dùng mã hóa BPE"
   ]
  },
  {
   "cell_type": "code",
   "execution_count": null,
   "metadata": {
    "vscode": {
     "languageId": "plaintext"
    }
   },
   "outputs": [],
   "source": [
    "!sed 's/\\_/ /g' -i  data/pred_no_bpe.txt "
   ]
  },
  {
   "cell_type": "code",
   "execution_count": null,
   "metadata": {
    "vscode": {
     "languageId": "plaintext"
    }
   },
   "outputs": [],
   "source": [
    "!perl OpenNMT-py/tools/multi-bleu-detok.perl ./data/tgt-test.txt < ./data/pred_no_bpe.txt"
   ]
  }
 ],
 "metadata": {
  "language_info": {
   "name": "python"
  }
 },
 "nbformat": 4,
 "nbformat_minor": 2
}
